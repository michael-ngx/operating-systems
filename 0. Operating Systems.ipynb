{
 "cells": [
  {
   "cell_type": "markdown",
   "metadata": {},
   "source": [
    "# What is OS and Kernel?\n",
    "\n",
    "The OS is a **program** that is pre-loaded into memory (RAM) when the computer starts. It will run until you turn off your computer.  \n",
    "Recall that the `init` process will run first. That is the OS running, eventually it is also just a process.\n",
    "\n",
    "We know that the OS will does all the memory management and resource management for different processes. When a process (run on top of the OS) wants to do something, they have to make **system calls to ask OS to ask CPU to do the task for them**\n",
    "\n",
    "#### But the CPU is running the OS, how does the CPU run the codes of the application? \n",
    "\n",
    "## **CONTEXT SWITCHING**\n",
    "\n",
    "This means switching between processes. When you run an application, the OS schedules it to run on the CPU for a certain time. When that time expires, or when the application makes a request (system calls) that requires OS intervention (reading from memory or asking for user inputs), context switch happens (can switch to a different process, or to the **\"OS process aka kernel mode\"**)\n",
    "\n",
    "---> CPU switches to **kernel mode**, which has full control over the computer hardware and can handle the request. Once the OS completes the requested task, it returns the control to the application"
   ]
  }
 ],
 "metadata": {
  "language_info": {
   "name": "python"
  },
  "orig_nbformat": 4
 },
 "nbformat": 4,
 "nbformat_minor": 2
}
