{
 "cells": [
  {
   "cell_type": "markdown",
   "metadata": {},
   "source": [
    "You can look at a process’ state by reading\n",
    "\n",
    "    /proc/<PID>/status | grep State\n",
    "    \n",
    "Replace <PID> with the process ID (or self)\n",
    "\n",
    "Results: \n",
    "\n",
    "- R: Running and runnable [Running and Waiting]\n",
    "- S: Interruptible sleep [Blocked]\n",
    "- D: Uninterruptible sleep [Blocked] (waiting for IO, network, etc., such that we cannot \"wake it up\" before the wait finishes)\n",
    "- T: Stopped\n",
    "- Z: Zombie"
   ]
  },
  {
   "cell_type": "markdown",
   "metadata": {},
   "source": [
    "#### *If there are parents and child relationship between every single processes, how does the first one starts?*\n",
    "\n",
    "> After the kernel initializes, it creates a single process from a program (pid = 1)\n",
    "\n",
    "This process is called `init`, and it looks for it in `/sbin/init`  \n",
    "Responsible for executing every other process on the machine --> This is ultimate ancestor  \n",
    "Must always be active, if it exits the kernel thinks you’re shutting down\n",
    "\n",
    "For Linux, `init` will probably be systemd but there’s other options\n",
    "\n",
    "Aside: some operating systems create an “idle” process that the scheduler can run\n",
    "\n",
    "![Alt text](images/image7.png)\n",
    "\n",
    "(see: each tab is a process)\n"
   ]
  },
  {
   "cell_type": "markdown",
   "metadata": {},
   "source": [
    "You can see your process tree with:\n",
    "\n",
    "    htop\n",
    "\n",
    "*(You can press F5 to switch between tree and list view)*"
   ]
  },
  {
   "cell_type": "markdown",
   "metadata": {},
   "source": [
    "### Processes are assigned a Process ID (pid) on creation, and does not change throughout its lifetime\n",
    "\n",
    "The process ID is just a number, and is unique for every **active** process  \n",
    "On most Linux systems the maximum pid 32768, and <mark>0 is reserved (invalid)</mark>\n",
    "\n",
    "Eventually the kernel will recycle a pid, after the process dies, for a new process\n",
    "\n",
    "Remember: each process has its own address space (independent view of memory)"
   ]
  },
  {
   "cell_type": "markdown",
   "metadata": {},
   "source": [
    "### *What happends if the parent process exits (dies) before the child process dies??*\n",
    "\n",
    "*** There's a step between when the process exits and when the OS actually removes it  \n",
    "\n",
    "--> the PCB is still kept\n",
    "\n",
    "The operating system sets the exit status when a process terminates (the process terminates by calling exit)  \n",
    "<mark>It can’t remove its PCB yet</mark>\n",
    "\n",
    "The minimum acknowledgment the parent has to do is read the child’s exit status\n",
    "\n",
    "There’s two situations:\n",
    "1. The child exits first (zombie process)\n",
    "2. The parent exits first (orphan process)"
   ]
  },
  {
   "cell_type": "markdown",
   "metadata": {},
   "source": [
    "These situations will remain, before it's **acknowledged** by the parent.\n",
    "\n",
    "How does this acknowledgement works?\n",
    "\n",
    "--> System call `wait`\n",
    "\n",
    "wait as the following API:\n",
    "- status: Address to store the wait status of the process\n",
    "- Returns the process ID of child process\n",
    "    - -1: on failure\n",
    "    - 0: for non blocking calls with no child changes\n",
    "    - \\>0: the child with a change\n",
    "    \n",
    "The wait status contains a bunch of information, including the exit code  \n",
    "Use `man wait` to find all the macros to query wait status  \n",
    "You can use `waitpid` to wait on a specific child process  \n",
    "\n"
   ]
  },
  {
   "cell_type": "code",
   "execution_count": 1,
   "metadata": {},
   "outputs": [
    {
     "name": "stdout",
     "output_type": "stream",
     "text": [
      "Overwriting run.c\n"
     ]
    }
   ],
   "source": [
    "%%file run.c\n",
    "\n",
    "#include <errno.h>\n",
    "#include <stdio.h>\n",
    "#include <sys/types.h>\n",
    "#include <sys/wait.h>\n",
    "#include <unistd.h>\n",
    "\n",
    "int main(void) {\n",
    "  pid_t pid = fork();\n",
    "  if (pid == -1) {\n",
    "    return errno;\n",
    "  }\n",
    "  if (pid == 0) {\n",
    "    sleep(2);\n",
    "  }\n",
    "  else {\n",
    "    printf(\"Calling wait\\n\");\n",
    "    int wstatus;\n",
    "    pid_t wait_pid = wait(&wstatus);\n",
    "    if (WIFEXITED(wstatus)) {\n",
    "      printf(\"Wait returned for an exited process! pid: %d, status: %d\\n\", wait_pid, WEXITSTATUS(wstatus));\n",
    "    }\n",
    "    else {\n",
    "      return ECHILD;\n",
    "    }\n",
    "  }\n",
    "  return 0;\n",
    "}"
   ]
  },
  {
   "cell_type": "markdown",
   "metadata": {},
   "source": [
    "`init` does 2 jobs only: create processes, and call waitpid (to wait for its child (the actual child/assigned orphans)) to die"
   ]
  },
  {
   "cell_type": "code",
   "execution_count": null,
   "metadata": {},
   "outputs": [],
   "source": [
    "%%file run.c\n",
    "\n",
    "int main(int argc, char *argv[]) {\n",
    "    pid_t pid = fork();\n",
    "    if (pid ⿂⿻ -1) {\n",
    "        int err = errno;\n",
    "        perror(\"fork failed\");\n",
    "        return err;\n",
    "    }\n",
    "    if (pid ⿂⿻ 0) {\n",
    "        printf(\"Child parent pid: %d\\n\", getppid());        // *** This will always print the parent's pid \n",
    "        sleep(2);\n",
    "        printf(\"Child parent pid (after sleep): %d\\n\", getppid());\n",
    "    }\n",
    "    else {\n",
    "        sleep(1);   // Say the parent process runs here first, then during this 1 second, the child process will be ran anyways so (***)\n",
    "    }\n",
    "    return 0;\n",
    "}\n",
    "\n"
   ]
  }
 ],
 "metadata": {
  "kernelspec": {
   "display_name": "Python 3",
   "language": "python",
   "name": "python3"
  },
  "language_info": {
   "codemirror_mode": {
    "name": "ipython",
    "version": 3
   },
   "file_extension": ".py",
   "mimetype": "text/x-python",
   "name": "python",
   "nbconvert_exporter": "python",
   "pygments_lexer": "ipython3",
   "version": "3.10.6"
  },
  "orig_nbformat": 4
 },
 "nbformat": 4,
 "nbformat_minor": 2
}
