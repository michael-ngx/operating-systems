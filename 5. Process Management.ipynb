{
 "cells": [
  {
   "cell_type": "markdown",
   "metadata": {},
   "source": [
    "# Process Management\n",
    "\n",
    "You can look at a process’ state by reading\n",
    "\n",
    "    /proc/<PID>/status | grep State\n",
    "    \n",
    "Replace <PID> with the process ID (or self)\n",
    "\n",
    "Results: \n",
    "\n",
    "- R: Running and runnable [Running and Waiting]\n",
    "- S: Interruptible sleep [Blocked]\n",
    "- D: Uninterruptible sleep [Blocked] (waiting for IO, network, etc., such that we cannot \"wake it up\" before the wait finishes)\n",
    "- T: Stopped\n",
    "- Z: Zombie"
   ]
  },
  {
   "cell_type": "markdown",
   "metadata": {},
   "source": [
    "#### *If there are parents and child relationship between every single processes, how does the first one starts?*\n",
    "\n",
    "> After the kernel initializes, it creates a single process from a program (pid = 1)\n",
    "\n",
    "This process is called `init`, and it looks for it in `/sbin/init`  \n",
    "Responsible for executing every other process on the machine --> This is ultimate ancestor  \n",
    "Must always be active, if it exits the kernel thinks you’re shutting down\n",
    "\n",
    "For Linux, `init` will probably be systemd but there’s other options\n",
    "\n",
    "Aside: some operating systems create an “idle” process that the scheduler can run\n",
    "\n",
    "![Alt text](images/image7.png)\n",
    "\n",
    "- `systemd --user` is what we're using (user interface)\n",
    "- `gnome-terminal-server` is if we open a terminal (the graphical stuffs, translating what we type, showing what we type, etc.)\n",
    "- And then, the shell that executes on the terminal will be `zsh`\n",
    "\n",
    "(notice: each browser tab is a process, so that a crashed tab will not affect others)\n"
   ]
  },
  {
   "cell_type": "markdown",
   "metadata": {},
   "source": [
    "You can see your process tree with:\n",
    "\n",
    "    htop\n",
    "\n",
    "*(You can press F5 to switch between tree and list view)*"
   ]
  },
  {
   "cell_type": "markdown",
   "metadata": {},
   "source": [
    "### Processes are assigned a Process ID (pid) on creation, and does not change throughout its lifetime\n",
    "\n",
    "The process ID is just a number, and is unique for every **active** process  \n",
    "On most Linux systems the maximum pid 32768, and <mark>0 is reserved (invalid)</mark>\n",
    "\n",
    "Eventually the kernel will recycle a pid, after the process dies, for a new process\n",
    "\n",
    "Remember: each process has its own address space (independent virtual memory)"
   ]
  },
  {
   "cell_type": "markdown",
   "metadata": {},
   "source": [
    "***\n",
    "### *What happends if the parent process exits (dies) before the child process dies??*\n",
    "\n",
    "**There's a step between when the process exits and when the OS actually removes it**\n",
    "\n",
    "- The operating system sets the exit status when a process terminates (the process terminates by calling `exit`)  \n",
    "    - The process's memory is released\n",
    "    - <mark>The process's PCB cannot be removed yet</mark>, so that the exit status of that process can still be read by its parent\n",
    "- The minimum acknowledgment the parent has to do is read the child’s exit status\n",
    "- Then, and only then, the process (child) can be entirely removed by the OS\n",
    "\n",
    "There’s two situations:\n",
    "1. The child exits first (zombie process)\n",
    "\n",
    "> Zombie process: 'alive' and 'dead' at the same time, meaning it's not running anymore but the OS cannot completely get rid of the process yet (not acknowledged yet)\n",
    "\n",
    "2. The parent exits first (orphan process)\n",
    "\n",
    "> Orphan process: what the child process will become when its parent exit first\n",
    "\n",
    "(and the parent will also need to be acknowledged by its parent)"
   ]
  },
  {
   "cell_type": "markdown",
   "metadata": {},
   "source": [
    "How does this *acknowledgement* works?\n",
    "\n",
    "--> <mark>Parent call `wait` to acknowledge</mark>\n",
    "\n",
    "`wait` as the following API: (called within the parent process, takes no child pid argument, simply will wait and return to check if this process have any dying child process)\n",
    "\n",
    "    pid_t wait(int status);\n",
    "\n",
    "- status: Address to store the wait status of the process (passing an `int`, which will be modified)\n",
    "- Returns the process ID of child process (whose death is being waited for)\n",
    "    - -1: on failure (e.g. no children died)\n",
    "    - 0: for non blocking calls with no child changes\n",
    "    - \\>0: the child with a change\n",
    "    \n",
    "The wait status contains a bunch of information, including the exit code  \n",
    "Use `man wait` to find all the macros to query wait status  \n",
    "You can use <mark>`waitpid`</mark> to wait on a specific child process\n",
    "\n",
    "### Example 1: Parent blocks until the <mark>FIRST</mark> Child Process Exists, and cleans up"
   ]
  },
  {
   "cell_type": "code",
   "execution_count": null,
   "metadata": {},
   "outputs": [
    {
     "name": "stdout",
     "output_type": "stream",
     "text": [
      "Overwriting run.c\n"
     ]
    }
   ],
   "source": [
    "%%file run.c\n",
    "\n",
    "#include <errno.h>\n",
    "#include <stdio.h>\n",
    "#include <sys/types.h>\n",
    "#include <sys/wait.h>\n",
    "#include <unistd.h>\n",
    "\n",
    "int main(void) {\n",
    "  pid_t pid = fork();\n",
    "  if (pid == -1) {\n",
    "    return errno;\n",
    "  }\n",
    "  if (pid == 0) {\n",
    "    sleep(2);\n",
    "  }\n",
    "  else {\n",
    "    printf(\"Calling wait\\n\");\n",
    "    int wstatus;\n",
    "    pid_t wait_pid = wait(&wstatus); // This will not return (BLOCKED) until the FIRST child process has exited\n",
    "    if (WIFEXITED(wstatus)) {\n",
    "      printf(\"Wait returned for an exited process! pid: %d, status: %d\\n\", wait_pid, WEXITSTATUS(wstatus));\n",
    "    }\n",
    "    else {\n",
    "      return ECHILD;\n",
    "    }\n",
    "  }\n",
    "  return 0;\n",
    "}"
   ]
  },
  {
   "cell_type": "markdown",
   "metadata": {},
   "source": [
    "### Zombie Process waits for its Parent to Read its Exit Status\n",
    "\n",
    "The process is terminated, but it hasn't been acknowledged\n",
    "\n",
    "A process (parent) may have an error in it, where it never reads the child's exit status  \n",
    "**--> The OS can interrupt the parent process to acknowledge the child (next lecture)**  \n",
    "(a basic form of IPC - <mark>signal</mark>)\n",
    "\n",
    "The OS has to keep a zombie process until it's acknowledged. IF the parent ignores and fails to acknowledge it, the zombie process needs to wait to be re-parented (--> becomes an **orphan**)\n",
    "\n",
    "### Zombie process Example"
   ]
  },
  {
   "cell_type": "code",
   "execution_count": null,
   "metadata": {},
   "outputs": [],
   "source": [
    "%%file run.c\n",
    "\n",
    "#include <errno.h>\n",
    "#include <fcntl.h>\n",
    "#include <stdio.h>\n",
    "#include <string.h>\n",
    "#include <sys/stat.h>\n",
    "#include <sys/types.h>\n",
    "#include <unistd.h>\n",
    "\n",
    "// This function prints the state of a process\n",
    "int print_state(pid_t pid) {\n",
    "  char buffer[4096];\n",
    "  int ret = snprintf(buffer, sizeof(buffer), \"/proc/%d/status\", pid);\n",
    "  if (ret < 0) {\n",
    "    return ret;\n",
    "  }\n",
    "  int fd = open(buffer, O_RDONLY);\n",
    "  if (fd < 0) {\n",
    "    printf(\"unknown (macOS?)\\n\");\n",
    "    return fd;\n",
    "  }\n",
    "  ret = read(fd, buffer, sizeof(buffer));\n",
    "  if (ret < 0) {\n",
    "    return ret;\n",
    "  }\n",
    "  close(fd);\n",
    "\n",
    "  ssize_t bytes_read = ret;\n",
    "  char state_prefix[] = \"State:\\t\";\n",
    "  for (int i = 0; i < bytes_read; ++i) {\n",
    "    size_t remaining = bytes_read - i;\n",
    "    size_t state_len = sizeof(state_prefix) - 1;\n",
    "    if (remaining < state_len) {\n",
    "      break;\n",
    "    }\n",
    "    if (strncmp(buffer + i, state_prefix, state_len) == 0) {\n",
    "      for (int j = (i + state_len); j < bytes_read; ++j) {\n",
    "\t      ret = printf(\"%c\", buffer[j]);\n",
    "\t      if (ret < 0) {\n",
    "\t        return ret;\n",
    "\t      }\n",
    "\t      if (buffer[j] == '\\n') {\n",
    "\t        break;\n",
    "\t      }\n",
    "      }\n",
    "      break;\n",
    "    }\n",
    "  }\n",
    "\n",
    "  return 0;\n",
    "}\n",
    "\n",
    "int main(void) {\n",
    "  pid_t pid = fork();\n",
    "  if (pid == -1) {\n",
    "    return errno;\n",
    "  }\n",
    "  if (pid == 0) { // Child goes here\n",
    "    sleep(2); // Sleeps the child process\n",
    "  }\n",
    "  else {  // Parent goes here\n",
    "    int ret;\n",
    "    sleep(1);\n",
    "    printf(\"Child process state: \");\n",
    "    ret = print_state(pid);    // This will print S (sleeping)\n",
    "    if (ret < 0) { return errno; }\n",
    "    sleep(2);\n",
    "    printf(\"Child process state: \");\n",
    "    ret = print_state(pid);   // This will print Z (zombie) --> Because the child process has exited and we NEVER called wait()\n",
    "    if (ret < 0) { return errno; }\n",
    "  }\n",
    "  return 0;\n",
    "}"
   ]
  },
  {
   "cell_type": "markdown",
   "metadata": {},
   "source": [
    "### An Orphan Process Needs a New Parent\n",
    "\n",
    "If the child process lost its parent process (either parent process finishes first, or parent fails to acknowledge its exit), the child still needs a process to acknowledge its exit\n",
    "\n",
    "<mark>The OS re-parents the child process to `init` (pid = 1), which is now responsible to acknowledge the child</mark>"
   ]
  },
  {
   "cell_type": "markdown",
   "metadata": {},
   "source": [
    "--> `init` does 2 jobs only: create processes, and call waitpid (to wait for its child (the actual child/assigned orphans)) to die"
   ]
  },
  {
   "cell_type": "code",
   "execution_count": null,
   "metadata": {},
   "outputs": [],
   "source": [
    "%%file run.c\n",
    "\n",
    "int main(int argc, char *argv[]) {\n",
    "    pid_t pid = fork();\n",
    "    if (pid == -1) {\n",
    "        int err = errno;\n",
    "        perror(\"fork failed\");\n",
    "        return err;\n",
    "    }\n",
    "    if (pid == 0) { // Child goes here\n",
    "        printf(\"Child parent pid: %d\\n\", getppid());        // (*_*) This will always print the initial parent's pid \n",
    "        sleep(2);                                           // Initial parent is dead after this line --> orphan.\n",
    "        printf(\"Child parent pid (after sleep): %d\\n\", getppid());  // Should print 1 (init process)\n",
    "    }\n",
    "    else {  // Parent goes here\n",
    "        sleep(1);   // Say the parent process runs first, then during this 1 second, the child process will be ran anyways (by other threads or the same threads because CPU is free) --> (*_*)\n",
    "    }\n",
    "    return 0;\n",
    "}\n",
    "\n"
   ]
  },
  {
   "cell_type": "markdown",
   "metadata": {},
   "source": [
    "### Multiple fork example"
   ]
  },
  {
   "cell_type": "code",
   "execution_count": null,
   "metadata": {},
   "outputs": [],
   "source": [
    "%%file run.c\n",
    "\n",
    "#include <errno.h>\n",
    "#include <stdio.h>\n",
    "#include <stdlib.h>\n",
    "#include <sys/types.h>\n",
    "#include <unistd.h>\n",
    "\n",
    "int new_process(int id) {\n",
    "    pid_t pid = fork();\n",
    "    if (pid > 0) {\n",
    "        return 0;\n",
    "    }\n",
    "    else if (pid == -1) {\n",
    "        int err = errno;\n",
    "        perror(\"fork failed\");\n",
    "        return err;\n",
    "    }\n",
    "\n",
    "    for (int i = 0; i < 10; ++i) {\n",
    "        printf(\"Process %d: %d\\n\", id, i);\n",
    "        usleep(1000);\n",
    "    }\n",
    "    exit(0);\n",
    "}\n",
    "\n",
    "int main(void) {\n",
    "  for (int i = 1; i <= 4; ++i) {\n",
    "    int err = new_process(i);\n",
    "    if (err != 0) {\n",
    "        return err;\n",
    "    }\n",
    "  }\n",
    "  return 0;\n",
    "}"
   ]
  },
  {
   "cell_type": "markdown",
   "metadata": {},
   "source": [
    "- We created 4 processes\n",
    "\n",
    "- Are we a responsible parent? **NO**. We did not `wait()` for any child processes, meaning they'll all become orphans (after parent returns soon after each `return 0;`)"
   ]
  }
 ],
 "metadata": {
  "kernelspec": {
   "display_name": "Python 3",
   "language": "python",
   "name": "python3"
  },
  "language_info": {
   "codemirror_mode": {
    "name": "ipython",
    "version": 3
   },
   "file_extension": ".py",
   "mimetype": "text/x-python",
   "name": "python",
   "nbconvert_exporter": "python",
   "pygments_lexer": "ipython3",
   "version": "3.10.6"
  },
  "orig_nbformat": 4
 },
 "nbformat": 4,
 "nbformat_minor": 2
}
