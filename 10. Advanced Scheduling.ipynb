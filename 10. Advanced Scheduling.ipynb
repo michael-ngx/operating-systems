{
 "cells": [
  {
   "cell_type": "markdown",
   "metadata": {},
   "source": [
    "# Advanced Scheduling\n",
    "\n",
    "- We Could Add Priorities to favor some processes over others\n",
    "- Assign each process a priority\n",
    "- Run higher priority processes first, round-robin processes of equal priority Can be preemptive or non-preemptive\n",
    "\n",
    "### Priorities Can Be Assigned an Integer\n",
    "\n",
    "We can pick a lower, or higher number, to mean high priority\n",
    "\n",
    "In Linux -20 is the highest priority, 19 is the lowest\n",
    "\n",
    "We may lead processes to \"starvation\" of lower priority processes if there’s a lot of higher priority processes\n",
    "\n",
    "One solution is to have the OS dynamically change the priority.  \n",
    "Older processes that haven’t been executed in a long time increase priority\n",
    "\n",
    "### --> Priority Inversion is a New Issue\n",
    "\n",
    "We can **accidentally change** the priority of a low priority process to a high one  \n",
    "This is caused by dependencies, e.g. a high priority depends a low priority\n",
    "\n",
    "One solution is **priority inheritance**  \n",
    "- Inherit the highest priority of the waiting processes  \n",
    "- Chain together multiple inheritances if needed  \n",
    "- Revert back to the original priority after dependency"
   ]
  },
  {
   "cell_type": "markdown",
   "metadata": {},
   "source": [
    "If you have a clear separation of **Foreground processes** and **Background processes** \n",
    "\n",
    "Unix background process when: process group ID different from its terminal group ID --> You're a background task (cannot receive input - terminal - from user)\n",
    "\n",
    "- Foreground processes are interactable and need good response time --> more priority\n",
    "- Background processes may not need good response time, just throughput --> less priority\n",
    "\n",
    "### We can use Multiple Queues\n",
    "\n",
    "We could create different queues for foreground and background processes: (Example:)\n",
    "- Foreground uses RR\n",
    "- Background uses FCFS\n",
    "\n",
    "--> We have to schedule between queues\n",
    "- RR between the queues\n",
    "- Use a priority for each queue"
   ]
  },
  {
   "cell_type": "markdown",
   "metadata": {},
   "source": [
    "..... The scheduling can get more and more complicated (There’s no “right answer”, only trade-offs)\n",
    "\n",
    "We’ll assume <mark>**symmetric multiprocessing (SMP)**</mark>\n",
    "- All CPUs are connected to the same physical memory\n",
    "- The CPUs have their own private cache (at least the lowest levels)\n",
    "\n",
    "### 1.  Use the Same Scheduling for All CPUs\n",
    "\n",
    "There’s still only one scheduler: It just keeps adding processes while there’s available CPUs\n",
    "\n",
    "--> Keep scheduling processes across CPUs\n",
    "\n",
    "Advantage: \n",
    "- Good CPU utilization  \n",
    "- Fair to all processes\n",
    "\n",
    "Disadvantages:\n",
    "- Not scalable (**everything blocks on global scheduler**) (2 CPUs cannot ask questions to the memory at the same tiem)\n",
    "- Poor cache locality (If a process gets RR and may move to a different CPU, different cache access and there will be no locality)\n",
    "\n",
    "This was the approach in Linux 2.4"
   ]
  },
  {
   "cell_type": "markdown",
   "metadata": {},
   "source": [
    "### 2. Create Per-CPU Schedulers\n",
    "\n",
    "When there’s a new process, assign it to a CPU  \n",
    "One strategy is to assign it to the CPU with the lowest number of processes  \n",
    "**--> Process will not change CPU**\n",
    "\n",
    "Advantages:\n",
    "- Easy to implement\n",
    "- Scalable (there’s no blocking on a resource - same scheduler in 1 CPU)\n",
    "- Good cache locality (still on the same CPU)\n",
    "\n",
    "Disadvantages:\n",
    "- Load imbalance: Some CPUs may have less processes, or less intensive ones"
   ]
  },
  {
   "cell_type": "markdown",
   "metadata": {},
   "source": [
    "### 2.1. Compromise between Global and Per-CPU\n",
    "\n",
    "Keep a global scheduler that can rebalance per-CPU queues  \n",
    "If a CPU is idle, take a process from another CPU (**work stealing** - \"process stealing\")\n",
    "\n",
    "Disadvantage: If a process changes core, the cache locality will be reset\n",
    "\n",
    "--> If we really want a process to have better preformance:\n",
    "\n",
    "Use **processor affinity**  \n",
    "The preference of a process to be scheduled on the same core\n",
    "\n",
    "This is a simplified version of the O(1) scheduler in Linux 2.6"
   ]
  },
  {
   "cell_type": "markdown",
   "metadata": {},
   "source": [
    "### 3. “Gang” Scheduling\n",
    "\n",
    "Multiple processes may need to be scheduled simultaneously\n",
    "\n",
    "The scheduler on each CPU cannot be completely independent\n",
    "\n",
    "“Gang Scheduling” (Coscheduling)  \n",
    "Allows you to run a set of processes simultaneously (acting as a unit)  \n",
    "\n",
    "This requires a global context-switch across all CPUs"
   ]
  },
  {
   "cell_type": "markdown",
   "metadata": {},
   "source": [
    "### 4. Real-Time Scheduling\n",
    "\n",
    "Real-time means there are time constraints (e.g. autopilot)\n",
    "\n",
    "- A hard real-time system: Required to guarantee a task completes within a certain amount of time\n",
    "- A soft real-time system: Critical processes have a higher priority and the deadline is met in practice\n",
    "\n",
    "Linux is an example of soft real-time"
   ]
  },
  {
   "cell_type": "markdown",
   "metadata": {},
   "source": [
    "### 5. Linux Implements FCFS and RR Scheduling for real-time processes (Same schedule for all CPUs)\n",
    "### It uses (Per-CPU Schedulers) for Normal processes\n",
    "\n",
    "You can search the source tree: FCFS (SCHED_FIFO) and RR (SCHED_RR)\n",
    "\n",
    "Use a multilevel queue scheduler for processes with the same priority  \n",
    "Also let the OS dynamically adjust the priority\n",
    "\n",
    "Soft real-time processes: Always schedule the highest priority processes first\n",
    "\n",
    "Normal processes: Adjust the priority based on aging"
   ]
  },
  {
   "cell_type": "markdown",
   "metadata": {},
   "source": [
    "#### **Soft Real-Time Processes Are Always Prioritized**\n",
    "\n",
    "The soft real-time scheduling policy will either be SCHED_FIFO or SCHED_RR (because they are predictable)  \n",
    "There are 100 static priority levels (0—99) (levels, not actual Linux priority)\n",
    "\n",
    "Normal scheduling policies apply to the other processes (SCHED_NORMAL)  \n",
    "By default the priority is 0  \n",
    "Priority ranges from [−20, 19]  \n",
    "\n",
    "Processes can change their own priorities with system calls:  \n",
    "`nice`, `sched_setscheduler`|"
   ]
  },
  {
   "cell_type": "markdown",
   "metadata": {},
   "source": [
    "**Linux tries to unifies all the normal and real-time process**\n",
    "\n",
    "--> This is the number that's shown through Linux\n",
    "\n",
    "![Alt text](images/image13.png)\n",
    "\n",
    "If you read the PRI of all processes in Linux, showing \"RT\" means -100"
   ]
  },
  {
   "cell_type": "markdown",
   "metadata": {},
   "source": [
    "### Linux Scheduler Evolution\n",
    "\n",
    "2.4—2.6, a O(N) global queue  \n",
    "Simple, but poor performance with multiprocessors and many processes\n",
    "\n",
    "(Previous: 5.)  \n",
    "2.6—2.6.22, a per-CPU run queue, O(1) scheduler  \n",
    "Complex to get right, interactivity had issues  \n",
    "No guarantee of fairness\n",
    "\n",
    "2.6.23—Present, the **completely fair scheduler (CFS)**  \n",
    "Fair, and allows for good interactivity"
   ]
  },
  {
   "cell_type": "markdown",
   "metadata": {},
   "source": [
    "### The O(1) Scheduler Has Issues with Modern Processes\n",
    "\n",
    "Foreground and background processes are a good division  \n",
    "Easier with a terminal, less so with GUI processes\n",
    "\n",
    "Now the kernel has to detect interactive processes with heuristics  \n",
    "Processes that sleep a lot may be more interactive  \n",
    "This is ad hoc, and could be unfair\n",
    "\n",
    "How would we introduce fairness for different priority processes?  \n",
    "Use different size time slices  \n",
    "The higher the priority, the larger the time slice  \n",
    "There are also situations where this ad hoc solution could be unfair"
   ]
  },
  {
   "cell_type": "markdown",
   "metadata": {},
   "source": [
    "### Ideal Fair Scheduling\n",
    "\n",
    "Assume you have an infinitely small time slice  \n",
    "If you have n processes, each runs at 1/n rate"
   ]
  },
  {
   "cell_type": "markdown",
   "metadata": {},
   "source": []
  }
 ],
 "metadata": {
  "language_info": {
   "name": "python"
  },
  "orig_nbformat": 4
 },
 "nbformat": 4,
 "nbformat_minor": 2
}
