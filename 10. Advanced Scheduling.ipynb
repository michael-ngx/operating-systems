{
 "cells": [
  {
   "cell_type": "markdown",
   "metadata": {},
   "source": [
    "# Advanced Scheduling\n",
    "\n",
    "- We Could Add Priorities to favor some processes over others\n",
    "    - Assign each process a **priority**\n",
    "- Run higher priority processes first, round-robin processes of equal priority  \n",
    "    - Can be preemptive or non-preemptive\n",
    "\n",
    "### Priorities\n",
    "\n",
    "##### ISSUE 1: lead lower priority processes to \"starvation\"\n",
    "\n",
    "--> One solution is to have the OS dynamically change the priority. Older processes that haven’t been executed in a long time increase priority\n",
    "\n",
    "##### ISSUE 2: **accidentally change** the priority of a low priority process to a high one \n",
    "\n",
    "This is caused by dependencies, e.g. a high priority depends on \"output\" from a low priority --> wrong order\n",
    "\n",
    "One solution is <mark>**priority inheritance**</mark>:  \n",
    "- Process providing data should be of higher priority\n",
    "- Chain together multiple inheritances if needed  \n",
    "- Revert back to the original priority after dependency"
   ]
  },
  {
   "cell_type": "markdown",
   "metadata": {},
   "source": [
    "### **Foreground processes** and **Background processes** \n",
    "\n",
    "- <mark>Foreground processes</mark> are interactable and need good response time --> more priority\n",
    "- <mark>Background processes</mark> may not need good response time, just throughput --> less priority\n",
    "\n",
    "### Multiple Queues\n",
    "\n",
    "We could create different queues for foreground and background processes: (Example:)\n",
    "- Foreground uses RR\n",
    "- Background uses FCFS\n",
    "\n",
    "--> We have to schedule between queues\n",
    "- RR between the queues\n",
    "- Use a priority for each queue\n",
    "\n",
    "..... The scheduling can get more and more complicated (There’s no “right answer”, only trade-offs)  \n",
    "\n",
    "***"
   ]
  },
  {
   "cell_type": "markdown",
   "metadata": {},
   "source": [
    "## Multiprocessor scheduling\n",
    "\n",
    "Assume <mark>**symmetric multiprocessing (SMP)**</mark>:\n",
    "- All CPUs are connected to the same physical memory\n",
    "- The CPUs have their own private cache\n",
    "\n",
    "### 1.  Use the Same Scheduling for All CPUs\n",
    "\n",
    "There’s still only one scheduler --> **Keep scheduling processes across available CPUs**\n",
    "\n",
    "Advantage:\n",
    "- Good CPU utilization  \n",
    "- Fair to all processes\n",
    "\n",
    "Disadvantages:\n",
    "- Not scalable (**everything blocks on global scheduler**)\n",
    "- Poor cache locality (If a process gets RR and move to a different CPU, different cache access across different CPU --> no locality)\n",
    "\n",
    "This was the approach in Linux 2.4"
   ]
  },
  {
   "cell_type": "markdown",
   "metadata": {},
   "source": [
    "### 2. Create Per-CPU Schedulers\n",
    "\n",
    "When there’s a new process, assign it to a CPU  \n",
    "One strategy is to assign it to the CPU with the lowest number of processes  \n",
    "**--> Process will not change CPU**\n",
    "\n",
    "Advantages:\n",
    "- Easy to implement\n",
    "- Scalable (there’s no blocking on scheduler) (schedulers will not have to communicate with each other)\n",
    "- Good cache locality (still on the same CPU)\n",
    "\n",
    "Disadvantages:\n",
    "- Load imbalance: Some CPUs may have less processe/less intensive ones"
   ]
  },
  {
   "cell_type": "markdown",
   "metadata": {},
   "source": [
    "### 2+. Compromise between Global Scheduler and Per-CPU Scheduler\n",
    "\n",
    "Keep a global scheduler that can rebalance per-CPU queues  \n",
    "If a CPU is idle, take a process from another CPU and put to idle CPU (**work stealing** - \"process stealing\")\n",
    "\n",
    "Disadvantage: If a process changes core, the cache locality will be reset\n",
    "\n",
    "--> If we really want a process to have better preformance:\n",
    "\n",
    "Use <mark>**processor affinity**</mark>  \n",
    "The preference of a process to be scheduled on the same core\n",
    "\n",
    "This is a simplified version of the O(1) scheduler in Linux 2.6"
   ]
  },
  {
   "cell_type": "markdown",
   "metadata": {},
   "source": [
    "### 3. “Gang” Scheduling\n",
    "\n",
    "Multiple processes may need to be scheduled simultaneously\n",
    "\n",
    "The scheduler on each CPU cannot be completely independent\n",
    "\n",
    "“Gang Scheduling” (**Coscheduling**)  \n",
    "Allows you to run a set of processes simultaneously (acting as a unit)  \n",
    "\n",
    "This requires a global context-switch across all CPUs (all processes at the same time)  \n",
    "(will not have to deal with this in this course)"
   ]
  },
  {
   "cell_type": "markdown",
   "metadata": {},
   "source": [
    "### 4. Real-Time Scheduling\n",
    "\n",
    "Real-time means there are time constraints (e.g. audio, autopilot --> Needs to be done fast)\n",
    "\n",
    "- A hard real-time system: Required to guarantee a task completes within a certain amount of time\n",
    "- A soft real-time system: Critical processes have a higher priority and the deadline is met in practice\n",
    "\n",
    "Linux is an example of soft real-time"
   ]
  },
  {
   "cell_type": "markdown",
   "metadata": {},
   "source": [
    "### 5. Linux scheduling - O(1) scheduler\n",
    "\n",
    "#### 5.1. Real-time processes - Same scheduler for all CPUs (in Kernel - FCFS or RR)\n",
    "\n",
    "Soft Real-Time Processes Are Always Prioritized over Normal Processes\n",
    "\n",
    "**Between soft real-time processes: Always schedule the highest priority processes first**\n",
    "\n",
    "Use a multilevel queue scheduler for processes with the same priority  \n",
    "Also let the OS dynamically adjust the priority\n",
    "\n",
    "The soft real-time scheduling policy will either be SCHED_FIFO or SCHED_RR (because they are predictable)  \n",
    "There are 100 static priority levels\n",
    "\n",
    "#### 5.2. Normal processes - Per-CPU Schedulers\n",
    "\n",
    "**Between normal processes: Adjust the priority based on aging (later)**\n",
    "\n",
    "Normal scheduling policies apply to the other processes (SCHED_NORMAL)  \n",
    "There are 40 Normal priority levels"
   ]
  },
  {
   "cell_type": "markdown",
   "metadata": {},
   "source": [
    "**Linux tries to unifies all the normal and real-time process**\n",
    "\n",
    "--> This is the number that's shown through Linux commands\n",
    "\n",
    "Processes can change their own priorities with system calls:  \n",
    "`nice`, `sched_setscheduler`\n",
    "\n",
    "![Alt text](images/image13.png)\n",
    "\n",
    "If you read the `PRI` of all processes in Linux, showing `RT` means -100"
   ]
  },
  {
   "cell_type": "markdown",
   "metadata": {},
   "source": [
    "### Linux Scheduler Evolution\n",
    "\n",
    "2.4—2.6, a O(N) global queue  \n",
    "Simple, but poor performance with multiprocessors and many processes\n",
    "\n",
    "(5. is here)  \n",
    "2.6—2.6.22, a per-CPU run queue, O(1) scheduler  \n",
    "Complex to get right, interactivity had issues  \n",
    "No guarantee of fairness\n",
    "\n",
    "2.6.23—Present, the **completely fair scheduler (CFS)**  \n",
    "Fair, and allows for good interactivity"
   ]
  },
  {
   "cell_type": "markdown",
   "metadata": {},
   "source": [
    "### The O(1) Scheduler Has Issues with Modern Processes\n",
    "\n",
    "- Foreground and background processes are a good division  \n",
    "    - Easier with a terminal, but less obvious with GUI processes\n",
    "\n",
    "- Now the kernel has to detect interactive processes with heuristics (**a guess** --> might be unfair)  \n",
    "    - Processes that sleep a lot may be more interactive  \n",
    "    - This is ad hoc, and could be unfair\n",
    "\n",
    "##### --> How would we introduce fairness for different priority processes?  \n",
    "\n",
    "- Use different size time slices based on priority\n",
    "    - The higher the priority, the larger the time slice --> could scale time slice depending on how \"fair\" we have been on that process in the past\n",
    "    - There are also situations where this ad hoc solution could be unfair"
   ]
  },
  {
   "cell_type": "markdown",
   "metadata": {},
   "source": [
    "***\n",
    "## 6. Ideal Fair Scheduling\n",
    "\n",
    "Assume you have an infinitely small time slice  \n",
    "If you have n processes, each runs at 1/n rate  \n",
    "\n",
    "![Alt text](images/image14.png)\n",
    "\n",
    "CPU usage is divided equally among every process\n",
    "\n",
    "### Example IFS Scheduling\n",
    "\n",
    "Consider the following processes: In every time units, all processes have perfectly fair share\n",
    "\n",
    "![Alt text](images/image15.png) ![Alt text](images/image16.png)\n",
    "\n",
    "#### THIS IS IMPRACTICAL\n",
    "\n",
    "- Too many context switches, running scheduling algorithm too many times\n",
    "- You have to constantly scan all processes (to check if every processes have a fair share), which is O(N) --> Super slow"
   ]
  },
  {
   "cell_type": "markdown",
   "metadata": {},
   "source": [
    "## 7. Completely Fair Scheduler (CFS) - NOW\n",
    "\n",
    "- For each runnable process, assign it a “virtual runtime”\n",
    "    - At each scheduling point where the process runs for time t\n",
    "        - Increase the virtual runtime by <mark>**t (actual running time) × weight (based on priority)**</mark>\n",
    "        - If it is a **higher priority task, weight is lower** --> less time to run\n",
    "- The virtual runtime monotonically increases: only increases (never decreases)\n",
    "    - Scheduler selects the process based on the lowest virtual runtime --> will run this process\n",
    "    - Compute its dynamic time slice based on the IFS\n",
    "\n",
    "Allow the process to run, when the time slice ends repeat the process\n",
    "\n",
    "### CFS is Implemented with Red-Black Trees\n",
    "\n",
    "- Keyed by virtual runtime\n",
    "- O(1) to find minimum --> the one that will run next\n",
    "\n",
    "The implementation uses a red-black tree with nanosecond granularity  \n",
    "Doesn’t need to guess the interactivity of a process\n",
    "\n",
    "CFS tends to favour I/O bound processes by default (they will usually go to sleep, so they will have small virtual runtime)  \n",
    "Small CPU bursts translate to a low virtual runtime  \n",
    "It will get a larger time slice, in order to catch up to the ideal  "
   ]
  },
  {
   "cell_type": "markdown",
   "metadata": {},
   "source": [
    "### Scheduling Gets Even More Complex\n",
    "\n",
    "There are more solutions, and more issues:\n",
    "- Introducing priority also introduces priority inversion\n",
    "- Some processes need good interactivity, others not so much\n",
    "- Multiprocessors may require per-CPU queues\n",
    "- Real-time requires predictability\n",
    "- Completely Fair Scheduler (CFS) tries to model the ideal fairness"
   ]
  }
 ],
 "metadata": {
  "language_info": {
   "name": "python"
  },
  "orig_nbformat": 4
 },
 "nbformat": 4,
 "nbformat_minor": 2
}
