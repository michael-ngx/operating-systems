{
 "cells": [
  {
   "cell_type": "markdown",
   "metadata": {},
   "source": [
    "# Process Practice"
   ]
  },
  {
   "cell_type": "markdown",
   "metadata": {},
   "source": [
    "**Uniprogramming**: only one process running at a time  \n",
    "Two processes are not parallel and not concurrent, no matter what\n",
    "\n",
    "**Multiprogramming**: allow multiple processes  \n",
    "Two processes can run in parallel or concurrently\n",
    "\n",
    "Modern OS try to run everything in parallel and concurrently\n",
    "\n",
    "### The Scheduler Decides When to Switch\n",
    "\n",
    "To create a process, the OS has to at least load it into memory\n",
    "\n",
    "When it's waiting, the scheduler (coming later) decides when it’s running\n",
    "\n",
    "### The Core Scheduling Loop Changes Running Processes\n",
    "\n",
    "1. Pause the currently running process\n",
    "2. Save its state, so you can restore it later\n",
    "3. Get the next process to run from the scheduler\n",
    "4. Load the next process’ state and let that run\n",
    "\n",
    "There are 2 ways to do this:\n",
    "\n",
    "- Let Processes Themselves\n",
    "- The Operating System Pause\n",
    "\n",
    "Cooperative multitasking  \n",
    "The processes use a system call to tell the operating system to pause it\n",
    "\n",
    "True multitasking  \n",
    "The operating system retains control and pauses processes\n",
    "\n",
    "Or, we can use interrupt\n",
    "\n",
    "**Swapping process** --> Context Switching\n",
    "\n",
    "- Save all the values, registers, or using stack (push, pop, etc.)\n",
    "- Note: Context Switching purely means overhead (not our goal) --> Check if the program ever uses float, etc. for faster"
   ]
  },
  {
   "cell_type": "markdown",
   "metadata": {},
   "source": [
    "## More IPC: A New API - `pipe`\n",
    "\n",
    "    int pipe (int pipefd[2]);\n",
    "\n",
    "Creates 2 new fd, 0 on success, -1 on failure \n",
    "\n",
    "Takes an int array of 2 int\n",
    "\n",
    "--> Forms a one way comminication channel using 2 fds (that it newly opens)\n",
    "\n",
    "--> Read end of the pipe, and write end of the pipe (transferring data)\n",
    "\n",
    "#### Aside: Using & in Your Shell --> your shell will start that process and return imidiately"
   ]
  },
  {
   "cell_type": "code",
   "execution_count": null,
   "metadata": {},
   "outputs": [],
   "source": [
    "%%file run.c\n",
    "\n",
    "#include <errno.h>\n",
    "#include <stdio.h>\n",
    "#include <stdlib.h>\n",
    "#include <string.h>\n",
    "#include <unistd.h>\n",
    "\n",
    "void check(int ret, const char* message) {\n",
    "    if (ret != -1) {\n",
    "        return;\n",
    "    }\n",
    "    int error = errno;      // More info: I want to exit and set my status to errno that causes the error\n",
    "    perror(message);\n",
    "    exit(error);\n",
    "}\n",
    "\n",
    "int main(void) {\n",
    "    int fds[2];\n",
    "    check(pipe(fds), \"pipe\");\n",
    "\n",
    "    pid_t pid = fork();\n",
    "    check(pid, \"fork\");\n",
    "    if (pid > 0) {\n",
    "        const char* str = \"Howdy child\";\n",
    "        int len = strlen(str);\n",
    "        int bytes_written = write(fds[1], str, len);\n",
    "        check(bytes_written, \"write\");\n",
    "    }\n",
    "    else {\n",
    "        char buffer[4096];\n",
    "        int bytes_read = read(fds[0], buffer, sizeof(buffer));\n",
    "        check(bytes_read, \"read\");\n",
    "        printf(\"Child read: %.*s\\n\", bytes_read, buffer);\n",
    "    }\n",
    "\n",
    "    close(fds[0]);      \n",
    "    close(fds[1]);\n",
    "\n",
    "    return 0;\n",
    "}"
   ]
  },
  {
   "cell_type": "markdown",
   "metadata": {},
   "source": [
    "NOTE: `read` is blocking, meaning that even if `read` is run first from the child, and there's nothing to read yet, it will go to sleep. Then, after the parent `write`, the child process can still \n",
    "\n",
    "** pipe is not like a file, it will be stored in memory (buffer) by the kernel (not saved to a file)\n",
    "\n",
    "*** // NOTE: after fork, both processes have fds opened --> Still have to close here for both ????? (are fds shared between processes or not?)\n",
    "\n",
    "IF we do not write to parent: the parent will return, we will have an orphan that always keep waiting for the 'read' (NO TIMEOUT)  \n",
    "NOTE: The child process still have not closed its write end of the pipe, so it doesn't get cleaned automatically by the kernel\n",
    "\n",
    "We can modify the code to:"
   ]
  },
  {
   "cell_type": "code",
   "execution_count": 1,
   "metadata": {},
   "outputs": [
    {
     "name": "stdout",
     "output_type": "stream",
     "text": [
      "Overwriting run.c\n"
     ]
    }
   ],
   "source": [
    "%%file run.c\n",
    "\n",
    "#include <errno.h>\n",
    "#include <stdio.h>\n",
    "#include <stdlib.h>\n",
    "#include <string.h>\n",
    "#include <unistd.h>\n",
    "\n",
    "void check(int ret, const char* message) {\n",
    "    if (ret != -1) {\n",
    "        return;\n",
    "    }\n",
    "    int error = errno;      // More info: I want to exit and set my status to errno that causes the error\n",
    "    perror(message);\n",
    "    exit(error);\n",
    "}\n",
    "\n",
    "int main(void) {\n",
    "    int fds[2];\n",
    "    check(pipe(fds), \"pipe\");\n",
    "\n",
    "    pid_t pid = fork();\n",
    "    check(pid, \"fork\");\n",
    "    if (pid > 0) {\n",
    "        const char* str = \"Howdy child\";\n",
    "        int len = strlen(str);\n",
    "        int bytes_written = write(fds[1], str, len);\n",
    "        check(bytes_written, \"write\");\n",
    "        close(fds[0]);      \n",
    "        close(fds[1]);\n",
    "    }\n",
    "    else {      \n",
    "        close(fds[1]);\n",
    "        char buffer[4096];\n",
    "        int bytes_read = read(fds[0], buffer, sizeof(buffer));\n",
    "        check(bytes_read, \"read\");\n",
    "        printf(\"Child read: %.*s\\n\", bytes_read, buffer);\n",
    "        close(fds[0]);\n",
    "    }\n",
    "\n",
    "    return 0;\n",
    "}"
   ]
  },
  {
   "cell_type": "markdown",
   "metadata": {},
   "source": [
    "This is because I closed fds[1] on the child side, so the `read` will not just stay there forever"
   ]
  },
  {
   "cell_type": "markdown",
   "metadata": {},
   "source": [
    "\"Think of fds like pointers, as 2 processes are forked, they have 2 fds that are representing the same 2 fds\" BUT WE STILL HAVE TO CLOSE FROM BOTH PROCESSES"
   ]
  },
  {
   "cell_type": "markdown",
   "metadata": {},
   "source": []
  }
 ],
 "metadata": {
  "kernelspec": {
   "display_name": "Python 3",
   "language": "python",
   "name": "python3"
  },
  "language_info": {
   "codemirror_mode": {
    "name": "ipython",
    "version": 3
   },
   "file_extension": ".py",
   "mimetype": "text/x-python",
   "name": "python",
   "nbconvert_exporter": "python",
   "pygments_lexer": "ipython3",
   "version": "3.10.6"
  },
  "orig_nbformat": 4
 },
 "nbformat": 4,
 "nbformat_minor": 2
}
