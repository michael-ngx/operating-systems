{
 "cells": [
  {
   "cell_type": "markdown",
   "metadata": {},
   "source": [
    "# Process Practice"
   ]
  },
  {
   "cell_type": "markdown",
   "metadata": {},
   "source": [
    "**Uniprogramming** (old): Only one process running at a time\n",
    "\n",
    "**Multiprogramming**: Two processes can run in parallel or concurrently\n",
    "\n",
    "--> Modern OS try to run everything in parallel and concurrently\n",
    "\n",
    "### The <mark>**Scheduler**</mark> Decides When to Switch to a process and run it (on a specific CPU core)\n",
    "\n",
    "To create a process, the OS has to at least load it into memory\n",
    "\n",
    "When it's waiting, the scheduler (coming later) decides when it’s running\n",
    "\n",
    "### The Core Secheduling Loop (Switching)\n",
    "\n",
    "1. Pause the currently running process\n",
    "2. Save its state, so you can restore it later\n",
    "3. Get the next process to run from the scheduler\n",
    "4. Load the next process’ state and let that run\n",
    "\n",
    "There are 2 ways to do this:\n",
    "\n",
    "- **Cooperative multitasking**: Let Processes control Themselves (The processes use a system call to tell the OS to pause it)\n",
    "- <mark>**True multitaksing**</mark>: The Operating System Pause (The OS retains control and pauses processes)\n",
    "\n",
    "Modern OS uses True multitasking. The OS can:\n",
    "- Give processes set time slices\n",
    "- Wake up periodically using interrupts to do scheduling\n",
    "\n",
    "Swapping process --> <mark>**Context Switching**</mark>\n",
    "\n",
    "- Save all the values, registers, or using stack (push, pop, etc.) using the current CPU\n",
    "\n",
    "- Note: Context Switching purely means overhead (not our goal)  \n",
    "--> There should be checks if the program ever uses float, etc.\n",
    "\n",
    "- There is hardware support to save as little as possible"
   ]
  },
  {
   "cell_type": "markdown",
   "metadata": {},
   "source": [
    "***\n",
    "## A New API - `pipe`\n",
    "\n",
    "    int pipe (int pipefd[2]);\n",
    "\n",
    "Returns 0 on success, -1 on failure \n",
    "\n",
    "Takes an int array of 2 int (will set these if success)\n",
    "\n",
    "--> Forms a one way comminication channel using 2 fds (that it newly opens)\n",
    "\n",
    "- pipefd[0] is the read end of the pipe\n",
    "- pipefd[1] is the write end of the pipe\n",
    "\n",
    "#### Aside: Using & in Your Shell\n",
    "- If you use & at the end of your command, your shell will start that process and return: e.g. `sleep 1 &`\n",
    "- It outputs the `pid` and lets you know when it’s finished\n",
    "- The `|` character creates a pipe between two processes\n",
    "\n",
    "### EXAMPLE: Pipe"
   ]
  },
  {
   "cell_type": "code",
   "execution_count": 3,
   "metadata": {},
   "outputs": [
    {
     "name": "stdout",
     "output_type": "stream",
     "text": [
      "Overwriting run.c\n"
     ]
    }
   ],
   "source": [
    "%%file run.c\n",
    "\n",
    "#include <errno.h>\n",
    "#include <stdio.h>\n",
    "#include <stdlib.h>\n",
    "#include <string.h>\n",
    "#include <unistd.h>\n",
    "\n",
    "// This function is just to handle the error checking after any system call\n",
    "void check(int ret, const char* message) {\n",
    "    if (ret != -1) {\n",
    "        return;\n",
    "    }\n",
    "    int error = errno;      // More info: I want to exit and set my status to errno that causes the error\n",
    "    perror(message);        // Because perror is a system call, can actually set errno as well, so we have to save errno to error\n",
    "    exit(error);\n",
    "}\n",
    "\n",
    "int main(void) {\n",
    "    int fds[2];\n",
    "    check(pipe(fds), \"pipe\");\n",
    "    pid_t pid = fork();\n",
    "    check(pid, \"fork\");\n",
    "\n",
    "    // Fork will create 2 file descriptors for each process\n",
    "    // 3 = fds[0] = the read end of the pipe\n",
    "    // 4 = fds[1] = the write end of the pipe\n",
    "    \n",
    "    // Parent\n",
    "    if (pid > 0) {\n",
    "        const char* str = \"Howdy child\";\n",
    "        int len = strlen(str);\n",
    "        int bytes_written = write(fds[1], str, len);\n",
    "        check(bytes_written, \"write\");\n",
    "    }\n",
    "    // Child\n",
    "    else {\n",
    "        char buffer[4096];\n",
    "        int bytes_read = read(fds[0], buffer, sizeof(buffer));\n",
    "        check(bytes_read, \"read\");\n",
    "        printf(\"Child read: %.*s\\n\", bytes_read, buffer);\n",
    "    }\n",
    "\n",
    "    close(fds[0]);      \n",
    "    close(fds[1]);\n",
    "\n",
    "    return 0;\n",
    "}"
   ]
  },
  {
   "cell_type": "markdown",
   "metadata": {},
   "source": [
    "- It doesn't matter which process runs first.  \n",
    "`read` is blocking, meaning that even if `read` is run first from the child, and there's nothing to read yet, it will go to sleep. Then, after the parent `write`, the child process can still `read` it later\n",
    "\n",
    "- `pipe` is not a file, it's like writting to the buffer in memory by the kernel. However, the data can still be referred to using file descriptors\n",
    "\n",
    "- after `pipe()` and then `fork()`, both processes have fds = 3 and fd = 4 opened --> Still have to `close` for both processes  \n",
    "HOWEVER, we can think of file descriptors like pointers --> fd = 3 of parent and child both refer to the same thing (but yes, we still need to `close` on both processes)\n",
    "\n",
    "<mark>**IMPORTANT**</mark>: IF we do not `write` in parent: the parent will return, we will have an orphan that always keep waiting for the `read`  \n",
    "This will NOT TIMEOUT, because the child process still has fds[1] open (the write end) --> it will still wait and it doesn't get cleaned automatically by the kernel\n",
    "\n",
    "Therefore, a better practice is we modify the code to:\n",
    "\n"
   ]
  },
  {
   "cell_type": "code",
   "execution_count": 2,
   "metadata": {},
   "outputs": [
    {
     "name": "stdout",
     "output_type": "stream",
     "text": [
      "Overwriting run.c\n"
     ]
    }
   ],
   "source": [
    "%%file run.c\n",
    "\n",
    "if (pid > 0) {\n",
    "    close(fds[0]);\n",
    "    //...\n",
    "    int bytes_written = write(fds[1], str, len);\n",
    "    //...\n",
    "    close(fds[1]);\n",
    "}\n",
    "else {\n",
    "    close(fds[1]);\n",
    "    //...\n",
    "    int bytes_read = read(fds[0], buffer, sizeof(buffer));\n",
    "    //...\n",
    "    close(fds[0]);\n",
    "}"
   ]
  },
  {
   "cell_type": "markdown",
   "metadata": {},
   "source": [
    "This is because I closed fds[1] on the child side, so the `read` will not just stay there forever if something happens to the parent not writing to the pipe"
   ]
  },
  {
   "cell_type": "markdown",
   "metadata": {},
   "source": [
    "***\n",
    "### FINAL 2022 Q1\n",
    "\n",
    "For each program shown below, state whether it will produce the same output each time it is run, or whether it may produce different outputs when run multiple times.  \n",
    "Explain why the program behaves like this"
   ]
  },
  {
   "cell_type": "code",
   "execution_count": 4,
   "metadata": {},
   "outputs": [
    {
     "name": "stdout",
     "output_type": "stream",
     "text": [
      "Overwriting run.c\n"
     ]
    }
   ],
   "source": [
    "%%file run.c\n",
    "\n",
    "int main() {\n",
    "    int i = 4;\n",
    "    while (i != 0) {\n",
    "        int pid = fork();\n",
    "        if (pid == 0) {\n",
    "            i--;\n",
    "        }\n",
    "        else {\n",
    "            printf(\"%d\\n\", i);\n",
    "            exit(0);\n",
    "        }\n",
    "    }\n",
    "    return 0;\n",
    "}"
   ]
  },
  {
   "cell_type": "markdown",
   "metadata": {},
   "source": [
    "\n",
    "| process 100 | process 101 | process 102  | process 103   |\n",
    "| :---        | :---       | :---          | :---          | \n",
    "| i = 4      | i = 3       | i = 2   | i = 1 |\n",
    "| pid = 101   | pid = 102  | pid = 103 | pid = 0 | \n",
    "| exited   |  exited | exited | exited |\n",
    "\n",
    "Print result:\n",
    "\n",
    "4\n",
    "2\n",
    "3\n",
    "1\n",
    "\n",
    "--> It is not guaranteed that the parent will always run before a child --> Different results each time we run\n",
    "\n",
    "### FINAL 2022 Q1\n",
    "\n",
    "What happens now?"
   ]
  },
  {
   "cell_type": "code",
   "execution_count": 6,
   "metadata": {},
   "outputs": [
    {
     "name": "stdout",
     "output_type": "stream",
     "text": [
      "Overwriting run.c\n"
     ]
    }
   ],
   "source": [
    "%%file run.c\n",
    "\n",
    "int main() {\n",
    "    int i = 4;\n",
    "    while (i != 0) {\n",
    "        int pid = fork();\n",
    "        if (pid == 0) {\n",
    "            i--;\n",
    "        }\n",
    "        else {\n",
    "            waitpid(pid, NULL, 0);\n",
    "            printf(\"%d\\n\", i);\n",
    "            exit(0);\n",
    "        }\n",
    "    }\n",
    "    return 0;\n",
    "}"
   ]
  },
  {
   "cell_type": "markdown",
   "metadata": {},
   "source": [
    "Now, the parent process will always wait for the child process to die before printing anything\n",
    "--> Result will be 1 2 3 4"
   ]
  }
 ],
 "metadata": {
  "kernelspec": {
   "display_name": "Python 3",
   "language": "python",
   "name": "python3"
  },
  "language_info": {
   "codemirror_mode": {
    "name": "ipython",
    "version": 3
   },
   "file_extension": ".py",
   "mimetype": "text/x-python",
   "name": "python",
   "nbconvert_exporter": "python",
   "pygments_lexer": "ipython3",
   "version": "3.9.12"
  },
  "orig_nbformat": 4
 },
 "nbformat": 4,
 "nbformat_minor": 2
}
