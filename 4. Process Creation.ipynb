{
 "cells": [
  {
   "cell_type": "markdown",
   "metadata": {},
   "source": [
    "# Process Creation\n",
    "\n",
    "Recall: A process is an instance of a running program\n",
    "\n",
    "** We can add more to process: Global variables, File descriptors\n",
    "\n",
    "![Alt text](images/image5.png)\n",
    "\n",
    "Each process contains a <mark>Process Control Block (PCB)</mark>, containing all the information about the process: (`task_struct` in Linux)\n",
    "\n",
    "- Process state\n",
    "- CPU registers\n",
    "- Scheduling information\n",
    "- Memory management information\n",
    "- I/O status information\n",
    "- Any other type of accounting information\n",
    "\n",
    "Each process gets a unique **process ID (pid)** to keep track of it"
   ]
  },
  {
   "cell_type": "markdown",
   "metadata": {},
   "source": [
    "## Process State Diagram\n",
    "\n",
    "![Alt text](images/image6.png)\n",
    "\n",
    "- \"running\" means the process is actually executing\n",
    "- \"waiting/ready\": at some point while running a process, the kernel will decide to run another process, and current is put to \"waiting\" (*Scheduling*)\n",
    "- \"exit\" terminates a process\n",
    "- \"block\" means even if the CPU is not running any processes, this process is still not going to be executed  \n",
    "Running -> Block when a process is waiting for a request (network or write/read from a file)\n",
    "\n",
    "You can read process's state using the `proc` filesystem\n",
    "\n",
    "> We will use this in Lab 1, which tells you information about the current processes and display it (like Task Manager app)\n",
    "\n",
    "- There’s a standard `/proc` directory (on Linux) that represents the kernel’s state\n",
    "- Every directory that’s a number (process ID) in `/proc` represents a process\n",
    "- For each process, there’s a file called `status` that contains the state (used for Lab 1)"
   ]
  },
  {
   "cell_type": "markdown",
   "metadata": {},
   "source": [
    "## Creating a process\n",
    "\n",
    "There are different ways of creating a process:\n",
    "\n",
    "1. Load the program into memory and create the process control block (Windows)\n",
    "2. Unix decomposes process creation into more flexible abstractions\n",
    "\n",
    "## Cloning a process\n",
    "\n",
    "- Pause the currently running process, and copy it’s PCB into a new one.  \n",
    "This will reuse all of the information from the process <mark>(all instructions, variables)</mark>\n",
    "\n",
    "- Distinguish between the two processes with a parent and child relationship  \n",
    "They could both execute different parts of the program together\n",
    "\n",
    "- We could then allow either process to load a new program and setup a new PCB"
   ]
  },
  {
   "cell_type": "markdown",
   "metadata": {},
   "source": [
    "    int fork(void)\n",
    "\n",
    "Returns the process ID of the newly created child process (see example)\n",
    "- -1: on failure\n",
    "- 0: in the child process\n",
    "- \\>0: in the parent process\n",
    "\n",
    "There are now 2 processes running  \n",
    "\n",
    "Note: they can access the same variables, but they’re separate (virtual memory!)\n",
    "\n",
    "Operating system does “copy on write” to maximize sharing"
   ]
  },
  {
   "cell_type": "markdown",
   "metadata": {},
   "source": [
    "#### EXAMPLE:"
   ]
  },
  {
   "cell_type": "code",
   "execution_count": 29,
   "metadata": {},
   "outputs": [
    {
     "name": "stdout",
     "output_type": "stream",
     "text": [
      "Overwriting run.c\n"
     ]
    }
   ],
   "source": [
    "%%file run.c\n",
    "\n",
    "#include <errno.h>\n",
    "#include <stdio.h>\n",
    "#include <sys/types.h>\n",
    "#include <unistd.h>\n",
    "\n",
    "int main(void) {\n",
    "  int x = 42;\n",
    "  pid_t returned_pid = fork();\n",
    "  printf(\"pid returned: %d, Address of x: %d\\n\", returned_pid, &x);\n",
    "  if (returned_pid > 0) {\n",
    "    printf(\"Parent returned pid: %d\\n\", returned_pid);\n",
    "    printf(\"Parent pid: %d\\n\", getpid());\n",
    "    printf(\"Parent parent pid: %d\\n\", getppid());\n",
    "    usleep(1000);\n",
    "  }\n",
    "  else if (returned_pid == 0) {\n",
    "    printf(\"Child returned pid: %d\\n\", returned_pid);\n",
    "    printf(\"Child pid: %d\\n\", getpid());\n",
    "    printf(\"Child parent pid: %d\\n\", getppid());\n",
    "  }\n",
    "  else {\n",
    "    int err = errno;\n",
    "    perror(\"fork failed\");\n",
    "    return err;\n",
    "  }\n",
    "  return 0;\n",
    "}"
   ]
  },
  {
   "cell_type": "code",
   "execution_count": 30,
   "metadata": {},
   "outputs": [
    {
     "name": "stdout",
     "output_type": "stream",
     "text": [
      "\u001b[1mrun.c:10:64: \u001b[0m\u001b[0;1;35mwarning: \u001b[0m\u001b[1mformat specifies type 'int' but the argument has type 'int *' [-Wformat]\u001b[0m\n",
      "  printf(\"pid returned: %d, Address of x: %d\\n\", returned_pid, &x);\n",
      "\u001b[0;1;32m                                          ~~                   ^~\n",
      "\u001b[0m1 warning generated.\n"
     ]
    }
   ],
   "source": [
    "!gcc run.c -g -o run.o"
   ]
  },
  {
   "cell_type": "code",
   "execution_count": 31,
   "metadata": {},
   "outputs": [
    {
     "name": "stdout",
     "output_type": "stream",
     "text": [
      "pid returned: 2931, Address of x: 1809706808\n",
      "Parent returned pid: 2931\n",
      "Parent pid: 2930\n",
      "Parent parent pid: 2241\n",
      "pid returned: 0, Address of x: 1809706808\n",
      "Child returned pid: 0\n",
      "Child pid: 2931\n",
      "Child parent pid: 2930\n"
     ]
    }
   ],
   "source": [
    "!./run.o"
   ]
  },
  {
   "cell_type": "markdown",
   "metadata": {},
   "source": [
    "Example walkthrough:\n",
    "\n",
    "Line | Parent process (id = 2930)           | Child process |\n",
    ":--- | :---                                 | :--- |\n",
    "0    | int x = 42                           |      |\n",
    "1    | calls `fork`, creating child process | Gets created (id = 2931), deep copy all instructions & memory |\n",
    "1    | returned_pid = 2931                  | returned_pid = 0       |\n",
    "2    | prints 1809706808                    | prints 1809706808 (the exact same address, but this is virtual $\\implies$ different physical address) |\n",
    "\n",
    "<mark>**NOTE:** after line 1, which process will run first? WE DON'T KNOW!!!! (not always parent)</mark>"
   ]
  },
  {
   "cell_type": "markdown",
   "metadata": {},
   "source": [
    "## Replacing a process\n",
    "\n",
    "`execve` replaces the process (ITSELF - the one that calls `execve`) with another program, and resets data\n",
    "\n",
    "API:\n",
    "\n",
    "    int execve (string pathname, char* argv[], char* envp[])\n",
    "\n",
    "- pathname: Full path of the program to load\n",
    "\n",
    "- argv: Array of strings (array of characters), terminated by a null pointer  \n",
    "Represents arguments to the process\n",
    "\n",
    "- envp: Same as argv  \n",
    "Represents the environment of the process\n",
    "\n",
    "- Returns an error on failure, **does not return if successful** (already switched to another process)"
   ]
  },
  {
   "cell_type": "code",
   "execution_count": 1,
   "metadata": {},
   "outputs": [
    {
     "name": "stdout",
     "output_type": "stream",
     "text": [
      "Overwriting run.c\n"
     ]
    }
   ],
   "source": [
    "%%file run.c\n",
    "\n",
    "#include <errno.h>\n",
    "#include <stdio.h>\n",
    "#include <unistd.h>\n",
    "\n",
    "int main(int argc, char *argv[]) {\n",
    "    printf(\"I'm going to become another process\\n\");\n",
    "    char *exec_argv[] = {\"ls\", NULL};\n",
    "    char *exec_envp[] = {NULL};\n",
    "    int exec_return = execve(\"ls\", exec_argv, exec_envp);\n",
    "    if (exec_return == -1) {\n",
    "        exec_return = errno;\n",
    "        perror(\"execve failed\");\n",
    "        return exec_return;\n",
    "    }\n",
    "    printf(\"If execve worked, this will never print\\n\");\n",
    "    return 0;\n",
    "}"
   ]
  },
  {
   "cell_type": "code",
   "execution_count": 2,
   "metadata": {},
   "outputs": [
    {
     "name": "stderr",
     "output_type": "stream",
     "text": [
      "'gcc' is not recognized as an internal or external command,\n",
      "operable program or batch file.\n"
     ]
    }
   ],
   "source": [
    "!gcc run.c -g -o run.o"
   ]
  },
  {
   "cell_type": "markdown",
   "metadata": {},
   "source": [
    "### The OS Creates Processes\n",
    "\n",
    "The operating system has to:\n",
    "- Maintain process control blocks, including state\n",
    "- Create new processes\n",
    "- Load a program, and re-initialize a process with context"
   ]
  }
 ],
 "metadata": {
  "kernelspec": {
   "display_name": "Python 3",
   "language": "python",
   "name": "python3"
  },
  "language_info": {
   "codemirror_mode": {
    "name": "ipython",
    "version": 3
   },
   "file_extension": ".py",
   "mimetype": "text/x-python",
   "name": "python",
   "nbconvert_exporter": "python",
   "pygments_lexer": "ipython3",
   "version": "3.9.12"
  },
  "orig_nbformat": 4
 },
 "nbformat": 4,
 "nbformat_minor": 2
}
