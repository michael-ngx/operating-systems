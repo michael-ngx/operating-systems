{
 "cells": [
  {
   "cell_type": "markdown",
   "metadata": {},
   "source": [
    "<span style=\"background-color: #FFFFFF; color: black\">Highlighting</span>\n",
    "\n",
    "<mark>Easier highlighting</mark>\n",
    "\n",
    "<span style=\"color:red\">Colored text</span>\n",
    "\n",
    "#### Table with alignments\n",
    "| Syntax      | Description | Test Text     |\n",
    "| :---        |    :----:   |          ---: |\n",
    "| Header      | Title       | Here's this   |\n",
    "| Paragraph   | Text        | And more      |\n",
    "\n",
    "    int main () {\n",
    "        // Indent by 1 tab for code block\n",
    "    }\n",
    "\n",
    "<img src=\"images/image4.png\" width=\"400\" height=\"100\">\n",
    "\n",
    "<https://www.markdownguide.org/extended-syntax/>\n",
    "\n"
   ]
  },
  {
   "cell_type": "code",
   "execution_count": 5,
   "metadata": {},
   "outputs": [],
   "source": [
    "!gcc run.c -g -o run.o"
   ]
  },
  {
   "cell_type": "code",
   "execution_count": 8,
   "metadata": {},
   "outputs": [
    {
     "name": "stdout",
     "output_type": "stream",
     "text": [
      "I'm going to become another process\n",
      "execve failed: No such file or directory\n"
     ]
    }
   ],
   "source": [
    "!./run.o"
   ]
  }
 ],
 "metadata": {
  "kernelspec": {
   "display_name": "Python 3",
   "language": "python",
   "name": "python3"
  },
  "language_info": {
   "codemirror_mode": {
    "name": "ipython",
    "version": 3
   },
   "file_extension": ".py",
   "mimetype": "text/x-python",
   "name": "python",
   "nbconvert_exporter": "python",
   "pygments_lexer": "ipython3",
   "version": "3.10.6"
  },
  "orig_nbformat": 4
 },
 "nbformat": 4,
 "nbformat_minor": 2
}
