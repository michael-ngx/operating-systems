{
 "cells": [
  {
   "cell_type": "markdown",
   "metadata": {},
   "source": [
    "We want to send and Receive Data from a process\n",
    "\n",
    "1. Create a new process that launches the command line argument\n",
    "2. Send the string Testing\\n to that process\n",
    "3. Receive any data it writes to standard output\n",
    "\n",
    "## A More Convenient API – `execlp`\n",
    "\n",
    "    int execlp(const char *file, const char *arg /⪗ Ⳬⴷⶃ, (char *) NULL ⁎/);\n",
    "\n",
    "Does not return on success, and -1 on failure (and sets errno)  \n",
    "\n",
    "`execlp` will let you skip using string arrays (using C varargs), and it will also search for executables using the PATH environment variable\n",
    "\n",
    "### Our Final APIs — `dup` and `dup2`\n",
    "\n",
    "    int dup(int oldfd);\n",
    "    \n",
    "    int dup2(int oldfd, int newfd);\n",
    "\n",
    "Returns a new file descriptor on success, and -1 on failure (and sets errno)\n",
    "\n",
    "Copies the file descriptor so oldfd and newfd refer to the same thing\n",
    "\n",
    "For `dup` it’ll return the lowest file descriptor\n",
    "\n",
    "For `dup2` it’ll atomically close the newfd argument (if open), and then make newfd refer to the same thing"
   ]
  },
  {
   "cell_type": "markdown",
   "metadata": {},
   "source": []
  }
 ],
 "metadata": {
  "language_info": {
   "name": "python"
  },
  "orig_nbformat": 4
 },
 "nbformat": 4,
 "nbformat_minor": 2
}
