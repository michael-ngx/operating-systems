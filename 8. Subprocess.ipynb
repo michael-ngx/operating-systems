{
 "cells": [
  {
   "cell_type": "markdown",
   "metadata": {},
   "source": [
    "# Subprocess\n",
    "\n",
    "Assume we want to: send and Receive Data from a process\n",
    "\n",
    "1. Create a new process that launches the command line argument\n",
    "2. Send the string Testing\\n to that process (should use pipe)\n",
    "3. Receive any data that this new process writes to standard output $\\implies$ use pipe to set this process's stdout to write to pipe \n",
    "\n",
    "## System call – `execlp`\n",
    "\n",
    "Recall: we can use `execve` to replace a process with a different process (restarted), but this is kinda inconvenient\n",
    "\n",
    "    int execlp(const char *file, const char *arg /*..., (char *) NULL ⁎/);\n",
    "\n",
    "- Only need to specify a file name (doesn't need to specify the whole path) - will look for default executables in <mark>**PATH Environment variables**</mark>\n",
    "- (similar to `execve`) Does not return on success (since we're already in a different process), and -1 on failure (and sets errno)  \n",
    "\n",
    "`execlp` will let you skip using string arrays (using C varargs), and it will also search for executables using the PATH environment variable\n",
    "\n",
    "- <mark>NOTE: This will just simply loads the new program's instructions into the memory, and execute that, but **doesn't close the file descriptors**</mark>\n",
    "- <mark>The pid will stay the same (and the same parent as well)</mark>\n",
    "\n",
    "## System call — `dup` and `dup2`\n",
    "\n",
    "    int dup(int oldfd);\n",
    "    int dup2(int oldfd, int newfd);\n",
    "\n",
    "- Returns a new file descriptor on success, and -1 on failure (and sets errno)\n",
    "\n",
    "- Copies the file descriptor so **oldfd and newfd refer to the same thing**\n",
    "\n",
    "For `dup` it’ll return the lowest file descriptor, which will refer to oldfd\n",
    "\n",
    "For `dup2` it’ll **automically close the newfd argument (if open)**, and then make newfd refer to oldfd"
   ]
  },
  {
   "cell_type": "markdown",
   "metadata": {},
   "source": [
    "***\n",
    "## Coding Example"
   ]
  },
  {
   "cell_type": "code",
   "execution_count": 48,
   "metadata": {},
   "outputs": [
    {
     "name": "stdout",
     "output_type": "stream",
     "text": [
      "Overwriting run.c\n"
     ]
    }
   ],
   "source": [
    "%%file run.c\n",
    "\n",
    "#include <assert.h>\n",
    "#include <errno.h>\n",
    "#include <stdio.h>\n",
    "#include <stdlib.h>\n",
    "#include <string.h>\n",
    "#include <sys/wait.h>\n",
    "#include <unistd.h>\n",
    "\n",
    "static void check_error(int ret, const char *message) {\n",
    "    if (ret != -1) {\n",
    "        return;\n",
    "    }\n",
    "    int err = errno;\n",
    "    perror(message);\n",
    "    exit(err);\n",
    "}\n",
    "\n",
    "static void parent(int in_pipefd[2], int out_pipefd[2], pid_t child_pid) {\n",
    "    close(in_pipefd[0]);\n",
    "    close(out_pipefd[1]);\n",
    "    \n",
    "    const char* message = \"Testing\\n\";\n",
    "    ssize_t bytes_written = write(in_pipefd[1], message, strlen(message));\n",
    "    check_error(bytes_written, \"write\");\n",
    "    close(in_pipefd[1]);\n",
    "    \n",
    "    int wstatus;\n",
    "    check_error(wait(&wstatus), \"wait\");\n",
    "    assert(WIFEXITED(wstatus));\n",
    "    assert(WEXITSTATUS(wstatus) == 0);\n",
    "    \n",
    "    char buffer[4096];\n",
    "    ssize_t bytes_read = read(out_pipefd[0], buffer, sizeof(buffer));    // Recall: read is blocking\n",
    "    check_error(bytes_read, \"read\");\n",
    "    printf(\"Got: %s\\n\", buffer);\n",
    "    close(out_pipefd[0]);\n",
    "}\n",
    "\n",
    "static void child(int in_pipefd[2], int out_pipefd[2], const char *program) {\n",
    "    ////////////////////////////////////\n",
    "    dup2(in_pipefd[0], 0);\n",
    "    dup2(out_pipefd[1], 1); \n",
    "    ////////////////////////////////////\n",
    "    \n",
    "    close(in_pipefd[0]);\n",
    "    close(in_pipefd[1]);\n",
    "    close(out_pipefd[0]);\n",
    "    close(out_pipefd[1]);   // Closed out_pipefd[1], but didn't close fd = 1 (which is also referring to the write end of the pipe by now)\n",
    "    \n",
    "    execlp(program, program, NULL);\n",
    "}\n",
    "\n",
    "int main(int argc, char* argv[]) {\n",
    "    if (argc != 2) {\n",
    "        return EINVAL;\n",
    "    }\n",
    "\n",
    "    int in_pipefd[2] = {0};\n",
    "    check_error(pipe(in_pipefd), \"pipe\");\n",
    "\n",
    "    int out_pipefd[2] = {0};\n",
    "    check_error(pipe(out_pipefd), \"pipe\");\n",
    "\n",
    "    pid_t pid = fork();\n",
    "    if (pid > 0) {\n",
    "        parent(in_pipefd, out_pipefd, pid);\n",
    "    }\n",
    "    else {\n",
    "        child(in_pipefd, out_pipefd, argv[1]);\n",
    "    }\n",
    "\n",
    "    return 0;\n",
    "}\n"
   ]
  },
  {
   "cell_type": "code",
   "execution_count": 49,
   "metadata": {},
   "outputs": [],
   "source": [
    "!gcc run.c -g -o run.o"
   ]
  },
  {
   "cell_type": "code",
   "execution_count": 51,
   "metadata": {},
   "outputs": [
    {
     "name": "stdout",
     "output_type": "stream",
     "text": [
      "Got: Darwin\n",
      "\n"
     ]
    }
   ],
   "source": [
    "!./run.o uname"
   ]
  },
  {
   "cell_type": "markdown",
   "metadata": {},
   "source": [
    "If Parent runs first:\n",
    "\n",
    "- Close **in_pipe read**, **out_pipe write** (on parent side)\n",
    "- It writes \"Testing\" to **in_pipe write**\n",
    "- Close **in_pipe write** (on parent side)\n",
    "- Try to read from **out_pipe read**. This will be blocking -> sleeps\n",
    "\n",
    "- Child process runs.\n",
    "- Changes fd = 0 to **in_pipe read**\n",
    "- Changes fd = 1 to **out_pipe write**\n",
    "- Close everything on child side\n",
    "- Switch process. \n",
    "    - `uname` simply outputs to fd = 1 $\\implies$ outputs to **out_pipe write**\n",
    "    - `cat` takes things from fd = 0, output to fd = 1\n",
    "        - $\\implies$ Took \"Testing\" from **in_pipe** and output to **out_pipe**\n",
    "\n",
    "- Parent continues\n",
    "- Print **out_pipe read**\n",
    "- Close **out_pipe read** (on parent side)\n",
    "\n",
    "If Child runs first:\n",
    "\n",
    "- Changes fd = 0 to **in_pipe read**\n",
    "- Changes fd = 1 to **out_pipe write**\n",
    "- Close everything on child side\n",
    "- Switch process. \n",
    "    - `uname` simply outputs to fd = 1 $\\implies$ outputs to **out_pipe write**\n",
    "    - `cat` takes things from fd = 0, output to fd = 1 $\\implies$ There is nothing in **in_pipe** yet, sleep\n",
    "\n",
    "- Parent process runs\n",
    "- It writes \"Testing\" to **in_pipe write**\n",
    "- Try to read from **out_pipe read** $\\implies$ Nothing here yet, sleep\n",
    "\n",
    "- Child continues.\n",
    "- `cat` reads \"Testing\", output to **out_pipe**\n",
    "\n",
    "- Parent continues\n",
    "- Print"
   ]
  }
 ],
 "metadata": {
  "kernelspec": {
   "display_name": "Python 3",
   "language": "python",
   "name": "python3"
  },
  "language_info": {
   "codemirror_mode": {
    "name": "ipython",
    "version": 3
   },
   "file_extension": ".py",
   "mimetype": "text/x-python",
   "name": "python",
   "nbconvert_exporter": "python",
   "pygments_lexer": "ipython3",
   "version": "3.10.6"
  },
  "orig_nbformat": 4
 },
 "nbformat": 4,
 "nbformat_minor": 2
}
